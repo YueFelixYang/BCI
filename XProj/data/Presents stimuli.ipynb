{
 "cells": [
  {
   "cell_type": "code",
   "execution_count": 1,
   "metadata": {},
   "outputs": [
    {
     "name": "stdout",
     "output_type": "stream",
     "text": [
      "pygame 1.9.6\n",
      "Hello from the pygame community. https://www.pygame.org/contribute.html\n"
     ]
    }
   ],
   "source": [
    "from pylsl import StreamInfo, StreamOutlet\n",
    "import numpy as np\n",
    "import pandas as pd\n",
    "from time import time, strftime, gmtime\n",
    "from psychopy import visual, core, event\n",
    "from glob import glob\n",
    "from random import choice"
   ]
  },
  {
   "cell_type": "code",
   "execution_count": 2,
   "metadata": {},
   "outputs": [],
   "source": [
    "#name, type, channel_count, sampling rate, channel format, source_id\n",
    "info = StreamInfo('Markers', 'Markers', 1, 0, 'int32', 'marker_id')"
   ]
  },
  {
   "cell_type": "code",
   "execution_count": 3,
   "metadata": {},
   "outputs": [],
   "source": [
    "#make an outlet\n",
    "outlet = StreamOutlet(info)"
   ]
  },
  {
   "cell_type": "code",
   "execution_count": 4,
   "metadata": {},
   "outputs": [],
   "source": [
    "markernames = [1, 2]  #1 for Target, 2 for non-target; 0 is default for non-events"
   ]
  },
  {
   "cell_type": "code",
   "execution_count": 5,
   "metadata": {},
   "outputs": [],
   "source": [
    "start = time()"
   ]
  },
  {
   "cell_type": "code",
   "execution_count": 6,
   "metadata": {},
   "outputs": [],
   "source": [
    "#setup parameters\n",
    "n_trials = 3\n",
    "iti = .3\n",
    "soa = 0.2\n",
    "jitter = 0.2\n",
    "record_duration = np.float32(120) #120.0"
   ]
  },
  {
   "cell_type": "code",
   "execution_count": 7,
   "metadata": {},
   "outputs": [],
   "source": [
    "#setup appearance probability\n",
    "position = np.random.binomial(1, 0.15, n_trials)  #randomize between 0 and 1, with 0.15 probability for 1, this is to set up the appearance of images"
   ]
  },
  {
   "cell_type": "code",
   "execution_count": 8,
   "metadata": {},
   "outputs": [
    {
     "data": {
      "text/plain": [
       "array([0, 1, 0])"
      ]
     },
     "execution_count": 8,
     "metadata": {},
     "output_type": "execute_result"
    }
   ],
   "source": [
    "position"
   ]
  },
  {
   "cell_type": "code",
   "execution_count": 9,
   "metadata": {},
   "outputs": [],
   "source": [
    "trials = pd.DataFrame(dict(position=position, timestamp=np.zeros(n_trials)))"
   ]
  },
  {
   "cell_type": "code",
   "execution_count": 10,
   "metadata": {},
   "outputs": [
    {
     "data": {
      "text/html": [
       "<div>\n",
       "<style scoped>\n",
       "    .dataframe tbody tr th:only-of-type {\n",
       "        vertical-align: middle;\n",
       "    }\n",
       "\n",
       "    .dataframe tbody tr th {\n",
       "        vertical-align: top;\n",
       "    }\n",
       "\n",
       "    .dataframe thead th {\n",
       "        text-align: right;\n",
       "    }\n",
       "</style>\n",
       "<table border=\"1\" class=\"dataframe\">\n",
       "  <thead>\n",
       "    <tr style=\"text-align: right;\">\n",
       "      <th></th>\n",
       "      <th>position</th>\n",
       "      <th>timestamp</th>\n",
       "    </tr>\n",
       "  </thead>\n",
       "  <tbody>\n",
       "    <tr>\n",
       "      <th>0</th>\n",
       "      <td>0</td>\n",
       "      <td>0.0</td>\n",
       "    </tr>\n",
       "    <tr>\n",
       "      <th>1</th>\n",
       "      <td>1</td>\n",
       "      <td>0.0</td>\n",
       "    </tr>\n",
       "    <tr>\n",
       "      <th>2</th>\n",
       "      <td>0</td>\n",
       "      <td>0.0</td>\n",
       "    </tr>\n",
       "  </tbody>\n",
       "</table>\n",
       "</div>"
      ],
      "text/plain": [
       "   position  timestamp\n",
       "0         0        0.0\n",
       "1         1        0.0\n",
       "2         0        0.0"
      ]
     },
     "execution_count": 10,
     "metadata": {},
     "output_type": "execute_result"
    }
   ],
   "source": [
    "trials"
   ]
  },
  {
   "cell_type": "code",
   "execution_count": 11,
   "metadata": {},
   "outputs": [],
   "source": [
    "def loadImage(filename):\n",
    "    return visual.ImageStim(win=mywin, image=filename)"
   ]
  },
  {
   "cell_type": "code",
   "execution_count": 12,
   "metadata": {},
   "outputs": [
    {
     "name": "stdout",
     "output_type": "stream",
     "text": [
      "0.5948 \tWARNING \tMonitor specification not found. Creating a temporary one...\n"
     ]
    }
   ],
   "source": [
    "mywin = visual.Window([1920, 1080], fullscr=False)\n",
    "\n",
    "targets = list(\n",
    "        map(loadImage, glob('stim/cats_dogs/target-*.jpg')))  #map each file to loadImage(here) #cat is target\n",
    "nontargets = list(\n",
    "        map(loadImage, glob('stim/cats_dogs/nontarget-*.jpg')))\n",
    "\n",
    "for ii, trial in trials.iterrows():\n",
    "    # inter trial interval\n",
    "    core.wait(iti + np.random.rand() * jitter)\n",
    "\n",
    "    # onset\n",
    "    pos = trials['position'].iloc[ii]  #running each position, using index as iterator (.iloc)\n",
    "    image = choice(targets if pos == 1 else nontargets)  #if position == 1, randomly select images from targets\n",
    "    image.draw()\n",
    "    timestamp = time()\n",
    "    outlet.push_sample([markernames[pos]], timestamp)  #(x, timestamp)\n",
    "    mywin.flip()\n",
    "    \n",
    "    #offset\n",
    "    core.wait(soa)\n",
    "    mywin.flip()\n",
    "    if len(event.getKeys()) > 0 or (time() - start) > record_duration:\n",
    "        break\n",
    "    event.clearEvents()\n",
    "    \n",
    "mywin.close()  #do not delete, otherwise, the window will not turn off"
   ]
  },
  {
   "cell_type": "code",
   "execution_count": 13,
   "metadata": {},
   "outputs": [],
   "source": [
    "mywin.close()"
   ]
  },
  {
   "cell_type": "code",
   "execution_count": null,
   "metadata": {},
   "outputs": [],
   "source": []
  }
 ],
 "metadata": {
  "kernelspec": {
   "display_name": "Python 3",
   "language": "python",
   "name": "python3"
  },
  "language_info": {
   "codemirror_mode": {
    "name": "ipython",
    "version": 3
   },
   "file_extension": ".py",
   "mimetype": "text/x-python",
   "name": "python",
   "nbconvert_exporter": "python",
   "pygments_lexer": "ipython3",
   "version": "3.6.9"
  }
 },
 "nbformat": 4,
 "nbformat_minor": 4
}
