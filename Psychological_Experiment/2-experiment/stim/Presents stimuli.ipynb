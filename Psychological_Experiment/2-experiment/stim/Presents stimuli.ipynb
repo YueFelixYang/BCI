{
 "cells": [
  {
   "cell_type": "code",
   "execution_count": 1,
   "metadata": {},
   "outputs": [
    {
     "name": "stdout",
     "output_type": "stream",
     "text": [
      "pygame 1.9.6\n",
      "Hello from the pygame community. https://www.pygame.org/contribute.html\n"
     ]
    }
   ],
   "source": [
    "from pylsl import StreamInfo, StreamOutlet\n",
    "import numpy as np\n",
    "import pandas as pd\n",
    "import time\n",
    "from psychopy import visual, core, event\n",
    "from glob import glob\n",
    "from random import choice, random"
   ]
  },
  {
   "cell_type": "code",
   "execution_count": 2,
   "metadata": {},
   "outputs": [],
   "source": [
    "#name, type, channel_count, sampling rate, channel format, source_id\n",
    "#Note that Markers, 1, and 0.0 cannot be altered\n",
    "info = StreamInfo('CytonMarkers', 'Markers', 1, 0.0, 'int32', 'CytonMarkerID')"
   ]
  },
  {
   "cell_type": "code",
   "execution_count": 3,
   "metadata": {},
   "outputs": [],
   "source": [
    "#make an outlet\n",
    "outlet = StreamOutlet(info)"
   ]
  },
  {
   "cell_type": "code",
   "execution_count": 4,
   "metadata": {},
   "outputs": [],
   "source": [
    "markernames = [1, 2]  #1 for non-Target, 2 for target; 0 is default for non-events"
   ]
  },
  {
   "cell_type": "code",
   "execution_count": 5,
   "metadata": {},
   "outputs": [],
   "source": [
    "start = time.time()"
   ]
  },
  {
   "cell_type": "code",
   "execution_count": 6,
   "metadata": {},
   "outputs": [],
   "source": [
    "#setup parameters\n",
    "#this requires expertise and paper reading to know what are the appropriate parameters\n",
    "n_trials = 100\n",
    "iti = 1  #inter trial interval, i.e., how long the fixation will stay\n",
    "soa = 3  #Stimulus-onset asynchrony, i.e., how long the stimulus will stay\n",
    "jitter = 0.2\n",
    "record_duration = np.float32(10000)"
   ]
  },
  {
   "cell_type": "code",
   "execution_count": 7,
   "metadata": {},
   "outputs": [],
   "source": [
    "#setup appearance probability\n",
    "position = np.random.binomial(1, 0.5, n_trials)  #randomize between 0 and 1, with 0.5 probability for 1, this is to set up the appearance of images"
   ]
  },
  {
   "cell_type": "code",
   "execution_count": 8,
   "metadata": {},
   "outputs": [],
   "source": [
    "#position = [0, 1, 1, 0, 1, 0, 0, 1, 0, 1]"
   ]
  },
  {
   "cell_type": "code",
   "execution_count": 9,
   "metadata": {},
   "outputs": [],
   "source": [
    "trials = pd.DataFrame(dict(position=position, timestamp=np.zeros(n_trials)))"
   ]
  },
  {
   "cell_type": "code",
   "execution_count": 10,
   "metadata": {},
   "outputs": [
    {
     "data": {
      "text/html": [
       "<div>\n",
       "<style scoped>\n",
       "    .dataframe tbody tr th:only-of-type {\n",
       "        vertical-align: middle;\n",
       "    }\n",
       "\n",
       "    .dataframe tbody tr th {\n",
       "        vertical-align: top;\n",
       "    }\n",
       "\n",
       "    .dataframe thead th {\n",
       "        text-align: right;\n",
       "    }\n",
       "</style>\n",
       "<table border=\"1\" class=\"dataframe\">\n",
       "  <thead>\n",
       "    <tr style=\"text-align: right;\">\n",
       "      <th></th>\n",
       "      <th>position</th>\n",
       "      <th>timestamp</th>\n",
       "    </tr>\n",
       "  </thead>\n",
       "  <tbody>\n",
       "    <tr>\n",
       "      <th>0</th>\n",
       "      <td>0</td>\n",
       "      <td>0.0</td>\n",
       "    </tr>\n",
       "    <tr>\n",
       "      <th>1</th>\n",
       "      <td>0</td>\n",
       "      <td>0.0</td>\n",
       "    </tr>\n",
       "    <tr>\n",
       "      <th>2</th>\n",
       "      <td>0</td>\n",
       "      <td>0.0</td>\n",
       "    </tr>\n",
       "    <tr>\n",
       "      <th>3</th>\n",
       "      <td>1</td>\n",
       "      <td>0.0</td>\n",
       "    </tr>\n",
       "    <tr>\n",
       "      <th>4</th>\n",
       "      <td>1</td>\n",
       "      <td>0.0</td>\n",
       "    </tr>\n",
       "    <tr>\n",
       "      <th>...</th>\n",
       "      <td>...</td>\n",
       "      <td>...</td>\n",
       "    </tr>\n",
       "    <tr>\n",
       "      <th>95</th>\n",
       "      <td>1</td>\n",
       "      <td>0.0</td>\n",
       "    </tr>\n",
       "    <tr>\n",
       "      <th>96</th>\n",
       "      <td>0</td>\n",
       "      <td>0.0</td>\n",
       "    </tr>\n",
       "    <tr>\n",
       "      <th>97</th>\n",
       "      <td>1</td>\n",
       "      <td>0.0</td>\n",
       "    </tr>\n",
       "    <tr>\n",
       "      <th>98</th>\n",
       "      <td>1</td>\n",
       "      <td>0.0</td>\n",
       "    </tr>\n",
       "    <tr>\n",
       "      <th>99</th>\n",
       "      <td>1</td>\n",
       "      <td>0.0</td>\n",
       "    </tr>\n",
       "  </tbody>\n",
       "</table>\n",
       "<p>100 rows × 2 columns</p>\n",
       "</div>"
      ],
      "text/plain": [
       "    position  timestamp\n",
       "0          0        0.0\n",
       "1          0        0.0\n",
       "2          0        0.0\n",
       "3          1        0.0\n",
       "4          1        0.0\n",
       "..       ...        ...\n",
       "95         1        0.0\n",
       "96         0        0.0\n",
       "97         1        0.0\n",
       "98         1        0.0\n",
       "99         1        0.0\n",
       "\n",
       "[100 rows x 2 columns]"
      ]
     },
     "execution_count": 10,
     "metadata": {},
     "output_type": "execute_result"
    }
   ],
   "source": [
    "trials"
   ]
  },
  {
   "cell_type": "code",
   "execution_count": 11,
   "metadata": {},
   "outputs": [],
   "source": [
    "def loadImage(filename):\n",
    "    return visual.ImageStim(win=mywin, image=filename)"
   ]
  },
  {
   "cell_type": "code",
   "execution_count": null,
   "metadata": {},
   "outputs": [],
   "source": [
    "mywin = visual.Window([1920, 1080], fullscr=False)\n",
    "\n",
    "targets = list(\n",
    "        map(loadImage, glob('emo_stim/anger*.jpg')))  #map each file to loadImage(here) #sad is target\n",
    "nontargets = list(\n",
    "        map(loadImage, glob('emo_stim/amusement*.jpg')))\n",
    "\n",
    "\n",
    "while True:\n",
    "    message = visual.TextStim(mywin, text='Start recording and press space to continue')\n",
    "    message.draw()\n",
    "    mywin.flip()\n",
    "    keys = event.getKeys()\n",
    "    if 'space' in keys:  # If space has been pushed\n",
    "        message.setText = ''\n",
    "        message.draw()\n",
    "        mywin.flip()\n",
    "        for ii, trial in trials.iterrows():\n",
    "            \n",
    "            #fixation cross\n",
    "            fixation = visual.ShapeStim(mywin, \n",
    "                vertices=((0, -0.5), (0, 0.5), (0,0), (-0.5,0), (0.5, 0)),\n",
    "                lineWidth=5,\n",
    "                closeShape=False,\n",
    "                lineColor=\"white\"\n",
    "            )\n",
    "            fixation.draw()\n",
    "            mywin.flip() #refresh\n",
    "\n",
    "            # inter trial interval\n",
    "            core.wait(iti + np.random.rand() * jitter)\n",
    "            mywin.flip() #clear fixation\n",
    "\n",
    "\n",
    "            # onset\n",
    "            pos = trials['position'].iloc[ii]  #running each position, using index as iterator (.iloc)\n",
    "            image = choice(targets if pos == 1 else nontargets)  #if position == 1, randomly select images from targets\n",
    "            image.draw()\n",
    "            timestamp = time.time()\n",
    "            outlet.push_sample([markernames[pos]])  #(x, timestamp)  #remind that markernames[1] is 2\n",
    "            mywin.flip() #draw\n",
    "\n",
    "            #offset\n",
    "            core.wait(soa) #then wait\n",
    "            mywin.flip()  #then clear frame automatically since nothing is drawn\n",
    "            if len(event.getKeys()) > 0 or (time.time() - start) > record_duration:\n",
    "                break\n",
    "            event.clearEvents()\n",
    "        break;\n",
    "\n",
    "mywin.close()  #do not delete, otherwise, the window will not turn off"
   ]
  },
  {
   "cell_type": "code",
   "execution_count": null,
   "metadata": {},
   "outputs": [],
   "source": [
    "mywin.close()"
   ]
  },
  {
   "cell_type": "code",
   "execution_count": null,
   "metadata": {},
   "outputs": [],
   "source": []
  }
 ],
 "metadata": {
  "kernelspec": {
   "display_name": "Python 3",
   "language": "python",
   "name": "python3"
  },
  "language_info": {
   "codemirror_mode": {
    "name": "ipython",
    "version": 3
   },
   "file_extension": ".py",
   "mimetype": "text/x-python",
   "name": "python",
   "nbconvert_exporter": "python",
   "pygments_lexer": "ipython3",
   "version": "3.6.9"
  }
 },
 "nbformat": 4,
 "nbformat_minor": 4
}
