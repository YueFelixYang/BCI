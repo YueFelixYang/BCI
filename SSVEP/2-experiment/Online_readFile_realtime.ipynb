{
 "cells": [
  {
   "cell_type": "code",
   "execution_count": 52,
   "metadata": {},
   "outputs": [],
   "source": [
    "import matplotlib.pyplot as plt\n",
    "\n",
    "from mne.datasets import sample\n",
    "from mne.io import  RawArray\n",
    "\n",
    "from mne_realtime import LSLClient, MockLSLStream, RtEpochs, MockRtClient\n",
    "import numpy as np\n",
    "import pandas as pd\n",
    "import mne as mne\n",
    "\n"
   ]
  },
  {
   "cell_type": "code",
   "execution_count": 53,
   "metadata": {},
   "outputs": [
    {
     "name": "stdout",
     "output_type": "stream",
     "text": [
      "              O1         Oz         O2  Marker\n",
      "0      38956.250  27233.611  44154.887       0\n",
      "1      39004.645  27278.182  44197.668       0\n",
      "2      39005.805  27278.383  44199.301       0\n",
      "3      38978.270  27251.068  44177.395       0\n",
      "4      38944.137  27219.082  44149.145       0\n",
      "...          ...        ...        ...     ...\n",
      "62431  45353.141  34611.250  52799.133       0\n",
      "62432  45371.000  34628.844  52808.699       0\n",
      "62433  45391.812  34651.441  52827.902       0\n",
      "62434  45399.434  34662.551  52838.652       0\n",
      "62435  45393.398  34660.203  52834.293       0\n",
      "\n",
      "[62436 rows x 4 columns]\n"
     ]
    }
   ],
   "source": [
    "# Load a file to stream raw data\n",
    "df = pd.read_csv('data/ssvep-20trials-3s-chaky-bigsquare.csv')\n",
    "df.rename(columns={'Unnamed: 1':'O1',\n",
    "                          'Unnamed: 2':'Oz',\n",
    "                          'Unnamed: 3':'O2'\n",
    "                      }, \n",
    "                 inplace=True)\n",
    "df = df.drop([\"timestamps\", \"Unnamed: 4\", \"Unnamed: 5\", \"Unnamed: 6\", \"Unnamed: 7\", \"Unnamed: 8\"], axis=1)\n",
    "print(df)\n"
   ]
  },
  {
   "cell_type": "code",
   "execution_count": 54,
   "metadata": {},
   "outputs": [
    {
     "name": "stdout",
     "output_type": "stream",
     "text": [
      "[[38956.25  39004.645 39005.805 ... 45391.812 45399.434 45393.398]\n",
      " [27233.611 27278.182 27278.383 ... 34651.441 34662.551 34660.203]\n",
      " [44154.887 44197.668 44199.301 ... 52827.902 52838.652 52834.293]\n",
      " [    0.        0.        0.    ...     0.        0.        0.   ]]\n"
     ]
    }
   ],
   "source": [
    "# convert dataframe to raw array\n",
    "data = df.to_numpy()\n",
    "data = data.transpose()\n",
    "print(data)"
   ]
  },
  {
   "cell_type": "code",
   "execution_count": 55,
   "metadata": {},
   "outputs": [
    {
     "name": "stdout",
     "output_type": "stream",
     "text": [
      "Creating RawArray with float64 data, n_channels=4, n_times=62436\n",
      "    Range : 0 ... 62435 =      0.000 ...   249.740 secs\n",
      "Ready.\n"
     ]
    }
   ],
   "source": [
    "sfreq = 250\n",
    "#Channel name\n",
    "ch_names = ['O1', 'Oz', 'O2','Marker']\n",
    "ch_types = ['eeg','eeg','eeg','misc']\n",
    "# Create the info structure needed by MNE\n",
    "info = mne.create_info(ch_names, sfreq,ch_types=ch_types)\n",
    "\n",
    "# Finally, create the Raw object\n",
    "raw = mne.io.RawArray(data, info)\n",
    "# print (raw.times)"
   ]
  },
  {
   "cell_type": "code",
   "execution_count": 56,
   "metadata": {},
   "outputs": [
    {
     "name": "stdout",
     "output_type": "stream",
     "text": [
      "Client: Waiting for server to start\n",
      "Client: Connected\n",
      "now sending data...\n",
      "<Info | 7 non-empty values\n",
      " bads: []\n",
      " ch_names: O1, Oz, O2\n",
      " chs: 3 EEG\n",
      " custom_ref_applied: False\n",
      " highpass: 0.0 Hz\n",
      " lowpass: 125.0 Hz\n",
      " meas_date: unspecified\n",
      " nchan: 3\n",
      " projs: []\n",
      " sfreq: 250.0 Hz\n",
      ">\n",
      "1 matching events found\n",
      "No baseline correction applied\n",
      "Not setting metadata\n",
      "0 projection items activated\n",
      "0 bad epochs dropped\n",
      "Stopping stream...\n"
     ]
    },
    {
     "data": {
      "text/plain": [
       "<mne_realtime.mock_lsl_stream.MockLSLStream at 0x10f217190>"
      ]
     },
     "execution_count": 56,
     "metadata": {},
     "output_type": "execute_result"
    }
   ],
   "source": [
    "host = 'mne_stream'\n",
    "stream = MockLSLStream(host, raw, 'eeg')\n",
    "\n",
    "epoch = ''\n",
    "# Let's observe it\n",
    "# plt.ion()  # make plot interactive\n",
    "# _, ax = plt.subplots(1)\n",
    "    \n",
    "with LSLClient(info=raw.info, host=host, wait_max=3) as client:\n",
    "    stream.start()\n",
    "    client_info = client.get_measurement_info()\n",
    "    print(client_info)\n",
    "#     sfreq = int(client_info['sfreq'])\n",
    "# #     print(client_info)\n",
    "\n",
    "\n",
    "#     # let's observe ten seconds of data\n",
    "    for ii in range(2):\n",
    "#         plt.cla()\n",
    "        epoch = client.get_data_as_epoch(n_samples=sfreq)\n",
    "        print(epoch.getData())\n",
    "#         epoch.average().plot(axes=ax)\n",
    "#         plt.pause(1)\n",
    "    \n",
    "# Let's terminate the mock LSL stream\n",
    "stream.stop()"
   ]
  },
  {
   "cell_type": "code",
   "execution_count": 40,
   "metadata": {},
   "outputs": [
    {
     "ename": "TypeError",
     "evalue": "__init__() missing 1 required positional argument: 'tmax'",
     "output_type": "error",
     "traceback": [
      "\u001b[0;31m---------------------------------------------------------------------------\u001b[0m",
      "\u001b[0;31mTypeError\u001b[0m                                 Traceback (most recent call last)",
      "\u001b[0;32m<ipython-input-40-9463087aa513>\u001b[0m in \u001b[0;36m<module>\u001b[0;34m\u001b[0m\n\u001b[1;32m      8\u001b[0m \u001b[0;34m\u001b[0m\u001b[0m\n\u001b[1;32m      9\u001b[0m \u001b[0;31m# create the real-time epochs object\u001b[0m\u001b[0;34m\u001b[0m\u001b[0;34m\u001b[0m\u001b[0;34m\u001b[0m\u001b[0m\n\u001b[0;32m---> 10\u001b[0;31m \u001b[0mrt_epochs\u001b[0m \u001b[0;34m=\u001b[0m \u001b[0mRtEpochs\u001b[0m\u001b[0;34m(\u001b[0m\u001b[0mrt_client\u001b[0m\u001b[0;34m,\u001b[0m \u001b[0mtmin\u001b[0m\u001b[0;34m,\u001b[0m \u001b[0mtmax\u001b[0m\u001b[0;34m,\u001b[0m \u001b[0mpicks\u001b[0m\u001b[0;34m=\u001b[0m\u001b[0mpicks\u001b[0m\u001b[0;34m)\u001b[0m\u001b[0;34m\u001b[0m\u001b[0;34m\u001b[0m\u001b[0m\n\u001b[0m\u001b[1;32m     11\u001b[0m \u001b[0;34m\u001b[0m\u001b[0m\n\u001b[1;32m     12\u001b[0m \u001b[0;31m# start the acquisition\u001b[0m\u001b[0;34m\u001b[0m\u001b[0;34m\u001b[0m\u001b[0;34m\u001b[0m\u001b[0m\n",
      "\u001b[0;31mTypeError\u001b[0m: __init__() missing 1 required positional argument: 'tmax'"
     ]
    }
   ],
   "source": []
  },
  {
   "cell_type": "code",
   "execution_count": null,
   "metadata": {},
   "outputs": [],
   "source": []
  },
  {
   "cell_type": "code",
   "execution_count": null,
   "metadata": {},
   "outputs": [],
   "source": []
  }
 ],
 "metadata": {
  "kernelspec": {
   "display_name": "Python 3",
   "language": "python",
   "name": "python3"
  },
  "language_info": {
   "codemirror_mode": {
    "name": "ipython",
    "version": 3
   },
   "file_extension": ".py",
   "mimetype": "text/x-python",
   "name": "python",
   "nbconvert_exporter": "python",
   "pygments_lexer": "ipython3",
   "version": "3.7.6"
  }
 },
 "nbformat": 4,
 "nbformat_minor": 4
}
