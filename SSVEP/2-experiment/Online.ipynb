{
 "cells": [
  {
   "cell_type": "code",
   "execution_count": 1,
   "metadata": {},
   "outputs": [
    {
     "name": "stdout",
     "output_type": "stream",
     "text": [
      "pygame 1.9.6\n",
      "Hello from the pygame community. https://www.pygame.org/contribute.html\n"
     ]
    }
   ],
   "source": [
    "from pylsl import StreamInfo, StreamOutlet\n",
    "import numpy as np\n",
    "import pandas as pd\n",
    "import time \n",
    "from psychopy import visual, core, event\n",
    "from glob import glob\n",
    "from random import choice, random\n",
    "from psychopy.visual import ShapeStim\n",
    "from pylsl import StreamInlet, resolve_byprop\n",
    "import threading"
   ]
  },
  {
   "cell_type": "code",
   "execution_count": 2,
   "metadata": {},
   "outputs": [
    {
     "name": "stdout",
     "output_type": "stream",
     "text": [
      "looking for a Markers stream...\n",
      "Found Markers stream\n"
     ]
    }
   ],
   "source": [
    "print(\"looking for a Markers stream...\")\n",
    "marker_streams = resolve_byprop('type', 'Markers', timeout=2)\n",
    "if marker_streams:\n",
    "    inlet_marker = StreamInlet(marker_streams[0])\n",
    "    marker_time_correction = inlet_marker.time_correction()\n",
    "    print(\"Found Markers stream\")"
   ]
  },
  {
   "cell_type": "code",
   "execution_count": 3,
   "metadata": {},
   "outputs": [],
   "source": [
    "import math\n",
    "def getFrames(freq):\n",
    "    framerate = 60 # mywin.getActualFrameRate()\n",
    "    frame = int(round(framerate / freq))\n",
    "    frame_on = math.ceil(frame / 2)\n",
    "    frame_off = math.floor(frame / 2)\n",
    "    return frame_on, frame_off"
   ]
  },
  {
   "cell_type": "code",
   "execution_count": 4,
   "metadata": {},
   "outputs": [],
   "source": [
    "#define a marker stream to receive the predicted class\n",
    "def marker_result():\n",
    "    marker, timestamp = inlet_marker.pull_chunk()\n",
    "    return marker"
   ]
  },
  {
   "cell_type": "code",
   "execution_count": 5,
   "metadata": {},
   "outputs": [],
   "source": [
    "#def marker_result():\n",
    " #   marker, timestamp = inlet_marker.pull_sample()\n",
    " #  return marker[0]"
   ]
  },
  {
   "cell_type": "code",
   "execution_count": 6,
   "metadata": {},
   "outputs": [],
   "source": [
    "#Author: Apiporn Simapornchai\n",
    "def stimuli_blinking_nonstop(frame_on1, frame_off1, frame_on2, frame_off2, frame_on3, frame_off3, shapes):\n",
    "    looptime = math.gcd(frame_on1,math.gcd(frame_on2,frame_on3))\n",
    "    \n",
    "    global flipCount\n",
    "\n",
    "    arrow =ShapeStim(mywin, vertices=arrowVert, fillColor='darkred', size=.5, lineColor='red', pos=arrowSequence[0])\n",
    "\n",
    "    result = marker_result()\n",
    "    if(result):\n",
    "        print(\"Marker received: \", result[0][0])\n",
    "        result = result[0][0]\n",
    "    \n",
    "    if flipCount ==60:\n",
    "        flipCount = 0\n",
    "    if(flipCount == 0 or (flipCount%frame_on1 ==0 and flipCount%(frame_on1*2) !=0)):\n",
    "        shapes[0].setAutoDraw(True)\n",
    "        shapes[1].setAutoDraw(False)\n",
    "    if(flipCount%(frame_off1*2) ==0):\n",
    "        shapes[1].setAutoDraw(True)\n",
    "        shapes[0].setAutoDraw(False)\n",
    "\n",
    "    if(flipCount == 0 or(flipCount%frame_on2 ==0 and flipCount%(frame_on2*2) !=0)):\n",
    "        shapes[2].setAutoDraw(True)\n",
    "        shapes[3].setAutoDraw(False)\n",
    "    if(flipCount%(frame_off2*2) ==0):\n",
    "        shapes[3].setAutoDraw(True)\n",
    "        shapes[2].setAutoDraw(False)\n",
    "\n",
    "    if(flipCount == 0 or(flipCount%frame_on3 ==0 and flipCount%(frame_on3*2) !=0)):\n",
    "        shapes[4].setAutoDraw(True)\n",
    "        shapes[5].setAutoDraw(False)\n",
    "    if(flipCount%(frame_off3*2) ==0):\n",
    "        shapes[5].setAutoDraw(True)\n",
    "        shapes[4].setAutoDraw(False)\n",
    "        \n",
    "    time = trialclock.getTime()\n",
    "    \n",
    "    for frameN in range(looptime):\n",
    "        mywin.flip()\n",
    "        flipCount+=1\n",
    "    \n",
    "    if (result): \n",
    "        arrow.setAutoDraw(False)\n",
    "        arrow = ShapeStim(mywin, vertices=arrowVert, fillColor='darkred', size=.2, lineColor='red', pos=arrowSequence[result-1])\n",
    "        arrow.setAutoDraw(True)\n",
    "        core.wait(2.0)\n",
    "        \n",
    "    #arrow.setAutoDraw(False)"
   ]
  },
  {
   "cell_type": "code",
   "execution_count": 7,
   "metadata": {},
   "outputs": [],
   "source": [
    "#setting params\n",
    "mywin = visual.Window([1920, 1080], fullscr=False)\n",
    "\n",
    "test_freq = [6, 10, 15]  #, 15]\n",
    "freq_len = len(test_freq)\n",
    "\n",
    "frame_on1, frame_off1 = getFrames(test_freq[0])\n",
    "frame_on2, frame_off2 = getFrames(test_freq[1])\n",
    "frame_on3, frame_off3 = getFrames(test_freq[2])\n",
    "\n",
    "flipCount = 0\n",
    "trialclock = core.Clock()\n",
    "\n",
    "frame_on = 0\n",
    "frame_off = 0\n",
    "\n",
    "patternup1Pos = [0, 0.65]\n",
    "patternright1Pos = [0.65, -0.5]\n",
    "patternleft1Pos =[-0.65, -0.5]\n",
    "\n",
    "# Arrow position is now y+0.2\n",
    "arrowUp1Pos = [0, 0.95]\n",
    "arrowRigh1Pos = [0.65, -0.2]\n",
    "arrowLeft1Pos=[-0.65, -0.2]\n",
    "\n",
    "# array to identify the sequenct of the stimuli\n",
    "arrowSequence = [arrowUp1Pos,arrowRigh1Pos,arrowLeft1Pos]\n",
    "\n",
    "patternup1 = visual.GratingStim(mywin, tex=None, sf=0, size=0.6,\n",
    "    name='pattern1', autoLog=False, color=[1,1,1], pos=patternup1Pos)\n",
    "patternup2 = visual.GratingStim(mywin, tex=None, sf=0, size=0.6,\n",
    "    name='pattern2', autoLog=False, color=[-1,-1,-1], pos=patternup1Pos)\n",
    "\n",
    "patternright1 = visual.GratingStim(mywin, tex=None, sf=0, size=0.6,\n",
    "    name='pattern1', autoLog=False, color=[1,1,1], pos=patternright1Pos)\n",
    "patternright2 = visual.GratingStim(mywin, tex=None, sf=0, size=0.6,\n",
    "    name='pattern2', autoLog=False, color=[-1,-1,-1], pos=patternright1Pos)\n",
    "\n",
    "#patterndown1 = visual.GratingStim(mywin, tex=None, sf=0, size=0.3,\n",
    "#    name='pattern1', autoLog=False, color=[1,1,1], pos=(0, -0.5))\n",
    "#patterndown2 = visual.GratingStim(mywin, tex=None, sf=0, size=0.3,\n",
    "#    name='pattern2', autoLog=False, color=[-1,-1,-1], pos=(0, -0.5))\n",
    "\n",
    "patternleft1 = visual.GratingStim(mywin, tex=None, sf=0, size=0.6,\n",
    "    name='pattern1', autoLog=False, color=[1,1,1], pos=patternleft1Pos)\n",
    "patternleft2 = visual.GratingStim(mywin, tex=None, sf=0, size=0.6,\n",
    "    name='pattern2', autoLog=False, color=[-1,-1,-1], pos=patternleft1Pos)\n",
    "\n",
    "# prepare the arrow shape\n",
    "arrowVert = [(0,0),(-0.1,0.15),(-0.05,0.15),(-0.05,0.3),(0.05,0.3),(0.05,0.15),(0.1,0.15)]\n",
    "\n",
    "shapes = [patternup1, patternup2, patternright1, patternright2, patternleft1, patternleft2]\n"
   ]
  },
  {
   "cell_type": "code",
   "execution_count": 8,
   "metadata": {},
   "outputs": [
    {
     "ename": "KeyboardInterrupt",
     "evalue": "",
     "output_type": "error",
     "traceback": [
      "\u001b[0;31m---------------------------------------------------------------------------\u001b[0m",
      "\u001b[0;31mKeyboardInterrupt\u001b[0m                         Traceback (most recent call last)",
      "\u001b[0;32m<ipython-input-8-d4c883efe0d6>\u001b[0m in \u001b[0;36m<module>\u001b[0;34m\u001b[0m\n\u001b[1;32m     10\u001b[0m         \u001b[0mmywin\u001b[0m\u001b[0;34m.\u001b[0m\u001b[0mflip\u001b[0m\u001b[0;34m(\u001b[0m\u001b[0;34m)\u001b[0m\u001b[0;34m\u001b[0m\u001b[0;34m\u001b[0m\u001b[0m\n\u001b[1;32m     11\u001b[0m         \u001b[0;32mwhile\u001b[0m \u001b[0;32mTrue\u001b[0m\u001b[0;34m:\u001b[0m\u001b[0;34m\u001b[0m\u001b[0;34m\u001b[0m\u001b[0m\n\u001b[0;32m---> 12\u001b[0;31m             \u001b[0mstimuli_blinking_nonstop\u001b[0m\u001b[0;34m(\u001b[0m\u001b[0mframe_on1\u001b[0m\u001b[0;34m,\u001b[0m \u001b[0mframe_off1\u001b[0m\u001b[0;34m,\u001b[0m \u001b[0mframe_on2\u001b[0m\u001b[0;34m,\u001b[0m \u001b[0mframe_off2\u001b[0m\u001b[0;34m,\u001b[0m \u001b[0mframe_on3\u001b[0m\u001b[0;34m,\u001b[0m \u001b[0mframe_off3\u001b[0m\u001b[0;34m,\u001b[0m \u001b[0mshapes\u001b[0m\u001b[0;34m)\u001b[0m\u001b[0;34m\u001b[0m\u001b[0;34m\u001b[0m\u001b[0m\n\u001b[0m",
      "\u001b[0;32m<ipython-input-6-f0b665f1c101>\u001b[0m in \u001b[0;36mstimuli_blinking_nonstop\u001b[0;34m(frame_on1, frame_off1, frame_on2, frame_off2, frame_on3, frame_off3, shapes)\u001b[0m\n\u001b[1;32m     38\u001b[0m \u001b[0;34m\u001b[0m\u001b[0m\n\u001b[1;32m     39\u001b[0m     \u001b[0;32mfor\u001b[0m \u001b[0mframeN\u001b[0m \u001b[0;32min\u001b[0m \u001b[0mrange\u001b[0m\u001b[0;34m(\u001b[0m\u001b[0mlooptime\u001b[0m\u001b[0;34m)\u001b[0m\u001b[0;34m:\u001b[0m\u001b[0;34m\u001b[0m\u001b[0;34m\u001b[0m\u001b[0m\n\u001b[0;32m---> 40\u001b[0;31m         \u001b[0mmywin\u001b[0m\u001b[0;34m.\u001b[0m\u001b[0mflip\u001b[0m\u001b[0;34m(\u001b[0m\u001b[0;34m)\u001b[0m\u001b[0;34m\u001b[0m\u001b[0;34m\u001b[0m\u001b[0m\n\u001b[0m\u001b[1;32m     41\u001b[0m         \u001b[0mflipCount\u001b[0m\u001b[0;34m+=\u001b[0m\u001b[0;36m1\u001b[0m\u001b[0;34m\u001b[0m\u001b[0;34m\u001b[0m\u001b[0m\n\u001b[1;32m     42\u001b[0m \u001b[0;34m\u001b[0m\u001b[0m\n",
      "\u001b[0;32m~/bci_project/bci_env/lib/python3.6/site-packages/psychopy/visual/window.py\u001b[0m in \u001b[0;36mflip\u001b[0;34m(self, clearBuffer)\u001b[0m\n\u001b[1;32m    991\u001b[0m         \u001b[0mself\u001b[0m\u001b[0;34m.\u001b[0m\u001b[0m_afterFBOrender\u001b[0m\u001b[0;34m(\u001b[0m\u001b[0;34m)\u001b[0m\u001b[0;34m\u001b[0m\u001b[0;34m\u001b[0m\u001b[0m\n\u001b[1;32m    992\u001b[0m \u001b[0;34m\u001b[0m\u001b[0m\n\u001b[0;32m--> 993\u001b[0;31m         \u001b[0mself\u001b[0m\u001b[0;34m.\u001b[0m\u001b[0mbackend\u001b[0m\u001b[0;34m.\u001b[0m\u001b[0mswapBuffers\u001b[0m\u001b[0;34m(\u001b[0m\u001b[0mflipThisFrame\u001b[0m\u001b[0;34m)\u001b[0m\u001b[0;34m\u001b[0m\u001b[0;34m\u001b[0m\u001b[0m\n\u001b[0m\u001b[1;32m    994\u001b[0m \u001b[0;34m\u001b[0m\u001b[0m\n\u001b[1;32m    995\u001b[0m         \u001b[0;32mif\u001b[0m \u001b[0mself\u001b[0m\u001b[0;34m.\u001b[0m\u001b[0museFBO\u001b[0m \u001b[0;32mand\u001b[0m \u001b[0mflipThisFrame\u001b[0m\u001b[0;34m:\u001b[0m\u001b[0;34m\u001b[0m\u001b[0;34m\u001b[0m\u001b[0m\n",
      "\u001b[0;32m~/bci_project/bci_env/lib/python3.6/site-packages/psychopy/visual/backends/pygletbackend.py\u001b[0m in \u001b[0;36mswapBuffers\u001b[0;34m(self, flipThisFrame)\u001b[0m\n\u001b[1;32m    309\u001b[0m             \u001b[0mpyglet\u001b[0m\u001b[0;34m.\u001b[0m\u001b[0mmedia\u001b[0m\u001b[0;34m.\u001b[0m\u001b[0mdispatch_events\u001b[0m\u001b[0;34m(\u001b[0m\u001b[0;34m)\u001b[0m  \u001b[0;31m# for sounds to be processed\u001b[0m\u001b[0;34m\u001b[0m\u001b[0;34m\u001b[0m\u001b[0m\n\u001b[1;32m    310\u001b[0m         \u001b[0;32mif\u001b[0m \u001b[0mflipThisFrame\u001b[0m\u001b[0;34m:\u001b[0m\u001b[0;34m\u001b[0m\u001b[0;34m\u001b[0m\u001b[0m\n\u001b[0;32m--> 311\u001b[0;31m             \u001b[0mself\u001b[0m\u001b[0;34m.\u001b[0m\u001b[0mwinHandle\u001b[0m\u001b[0;34m.\u001b[0m\u001b[0mflip\u001b[0m\u001b[0;34m(\u001b[0m\u001b[0;34m)\u001b[0m\u001b[0;34m\u001b[0m\u001b[0;34m\u001b[0m\u001b[0m\n\u001b[0m\u001b[1;32m    312\u001b[0m \u001b[0;34m\u001b[0m\u001b[0m\n\u001b[1;32m    313\u001b[0m     \u001b[0;32mdef\u001b[0m \u001b[0msetMouseVisibility\u001b[0m\u001b[0;34m(\u001b[0m\u001b[0mself\u001b[0m\u001b[0;34m,\u001b[0m \u001b[0mvisibility\u001b[0m\u001b[0;34m)\u001b[0m\u001b[0;34m:\u001b[0m\u001b[0;34m\u001b[0m\u001b[0;34m\u001b[0m\u001b[0m\n",
      "\u001b[0;32m~/bci_project/bci_env/lib/python3.6/site-packages/pyglet/window/xlib/__init__.py\u001b[0m in \u001b[0;36mflip\u001b[0;34m(self)\u001b[0m\n\u001b[1;32m    487\u001b[0m         \u001b[0;31m# TODO canvas.flip?\u001b[0m\u001b[0;34m\u001b[0m\u001b[0;34m\u001b[0m\u001b[0;34m\u001b[0m\u001b[0m\n\u001b[1;32m    488\u001b[0m         \u001b[0;32mif\u001b[0m \u001b[0mself\u001b[0m\u001b[0;34m.\u001b[0m\u001b[0mcontext\u001b[0m\u001b[0;34m:\u001b[0m\u001b[0;34m\u001b[0m\u001b[0;34m\u001b[0m\u001b[0m\n\u001b[0;32m--> 489\u001b[0;31m             \u001b[0mself\u001b[0m\u001b[0;34m.\u001b[0m\u001b[0mcontext\u001b[0m\u001b[0;34m.\u001b[0m\u001b[0mflip\u001b[0m\u001b[0;34m(\u001b[0m\u001b[0;34m)\u001b[0m\u001b[0;34m\u001b[0m\u001b[0;34m\u001b[0m\u001b[0m\n\u001b[0m\u001b[1;32m    490\u001b[0m \u001b[0;34m\u001b[0m\u001b[0m\n\u001b[1;32m    491\u001b[0m         \u001b[0mself\u001b[0m\u001b[0;34m.\u001b[0m\u001b[0m_sync_resize\u001b[0m\u001b[0;34m(\u001b[0m\u001b[0;34m)\u001b[0m\u001b[0;34m\u001b[0m\u001b[0;34m\u001b[0m\u001b[0m\n",
      "\u001b[0;32m~/bci_project/bci_env/lib/python3.6/site-packages/pyglet/gl/xlib.py\u001b[0m in \u001b[0;36mflip\u001b[0;34m(self)\u001b[0m\n\u001b[1;32m    374\u001b[0m         \u001b[0;32mif\u001b[0m \u001b[0mself\u001b[0m\u001b[0;34m.\u001b[0m\u001b[0m_vsync\u001b[0m\u001b[0;34m:\u001b[0m\u001b[0;34m\u001b[0m\u001b[0;34m\u001b[0m\u001b[0m\n\u001b[1;32m    375\u001b[0m             \u001b[0mself\u001b[0m\u001b[0;34m.\u001b[0m\u001b[0m_wait_vsync\u001b[0m\u001b[0;34m(\u001b[0m\u001b[0;34m)\u001b[0m\u001b[0;34m\u001b[0m\u001b[0;34m\u001b[0m\u001b[0m\n\u001b[0;32m--> 376\u001b[0;31m         \u001b[0mglx\u001b[0m\u001b[0;34m.\u001b[0m\u001b[0mglXSwapBuffers\u001b[0m\u001b[0;34m(\u001b[0m\u001b[0mself\u001b[0m\u001b[0;34m.\u001b[0m\u001b[0mx_display\u001b[0m\u001b[0;34m,\u001b[0m \u001b[0mself\u001b[0m\u001b[0;34m.\u001b[0m\u001b[0mglx_window\u001b[0m\u001b[0;34m)\u001b[0m\u001b[0;34m\u001b[0m\u001b[0;34m\u001b[0m\u001b[0m\n\u001b[0m\u001b[1;32m    377\u001b[0m \u001b[0;34m\u001b[0m\u001b[0m\n\u001b[1;32m    378\u001b[0m \u001b[0;34m\u001b[0m\u001b[0m\n",
      "\u001b[0;31mKeyboardInterrupt\u001b[0m: "
     ]
    }
   ],
   "source": [
    "#running the actual experiment\n",
    "message = visual.TextStim(mywin, text='Start recording and press space to continue')\n",
    "message.draw()\n",
    "mywin.flip()\n",
    "while True:\n",
    "    keys = event.getKeys()\n",
    "    if 'space' in keys:  # If space has been pushed    \n",
    "        message.setText = ''\n",
    "        message.draw()\n",
    "        mywin.flip() \n",
    "        while True:\n",
    "            stimuli_blinking_nonstop(frame_on1, frame_off1, frame_on2, frame_off2, frame_on3, frame_off3, shapes)"
   ]
  },
  {
   "cell_type": "code",
   "execution_count": null,
   "metadata": {},
   "outputs": [],
   "source": []
  }
 ],
 "metadata": {
  "kernelspec": {
   "display_name": "Python 3",
   "language": "python",
   "name": "python3"
  },
  "language_info": {
   "codemirror_mode": {
    "name": "ipython",
    "version": 3
   },
   "file_extension": ".py",
   "mimetype": "text/x-python",
   "name": "python",
   "nbconvert_exporter": "python",
   "pygments_lexer": "ipython3",
   "version": "3.6.9"
  }
 },
 "nbformat": 4,
 "nbformat_minor": 4
}
