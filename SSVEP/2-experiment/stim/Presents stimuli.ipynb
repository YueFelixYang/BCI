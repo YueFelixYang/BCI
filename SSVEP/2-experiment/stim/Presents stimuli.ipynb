{
 "cells": [
  {
   "cell_type": "code",
   "execution_count": 1,
   "metadata": {},
   "outputs": [
    {
     "name": "stdout",
     "output_type": "stream",
     "text": [
      "pygame 1.9.6\n",
      "Hello from the pygame community. https://www.pygame.org/contribute.html\n"
     ]
    }
   ],
   "source": [
    "from pylsl import StreamInfo, StreamOutlet\n",
    "import numpy as np\n",
    "import pandas as pd\n",
    "import time\n",
    "from psychopy import visual, core, event\n",
    "from glob import glob\n",
    "from random import choice, random"
   ]
  },
  {
   "cell_type": "code",
   "execution_count": 2,
   "metadata": {},
   "outputs": [],
   "source": [
    "#name, type, channel_count, sampling rate, channel format, source_id\n",
    "#Note that Markers, 1, and 0.0 cannot be altered\n",
    "info = StreamInfo('CytonMarkers', 'Markers', 1, 0.0, 'int32', 'CytonMarkerID')"
   ]
  },
  {
   "cell_type": "code",
   "execution_count": 3,
   "metadata": {},
   "outputs": [],
   "source": [
    "#make an outlet\n",
    "outlet = StreamOutlet(info)"
   ]
  },
  {
   "cell_type": "code",
   "execution_count": 4,
   "metadata": {},
   "outputs": [],
   "source": [
    "markernames = [1, 2]  #1 for Up, 2 for Down; 0 is default for non-events"
   ]
  },
  {
   "cell_type": "code",
   "execution_count": null,
   "metadata": {},
   "outputs": [],
   "source": [
    "mywin = visual.Window([800, 600], fullscr=False)\n",
    "trialdur = 3\n",
    "waitdur = 1\n",
    "frame_on = 4\n",
    "frame_off = 4\n",
    "count = 0\n",
    "framerate = mywin.getActualFrameRate()\n",
    "Trialclock = core.Clock()\n",
    "freq = 60/(frame_on+frame_off)\n",
    "\n",
    "pattern1 = visual.GratingStim(mywin, tex=None, sf=0, size=0.3,\n",
    "    name='pattern1', autoLog=False, color=[1,1,1])\n",
    "\n",
    "pattern2 = visual.GratingStim(mywin, tex=None, sf=0, size=0.3,\n",
    "    name='pattern2', autoLog=False, color=[-1,-1,-1])\n",
    "\n",
    "fixation = visual.GratingStim(mywin, size = 0.3, pos=[0,0], sf=0, rgb=-1)\n",
    "\n",
    "\n",
    "while True:\n",
    "    message = visual.TextStim(mywin, text='Start recording and press space to continue')\n",
    "    message.draw()\n",
    "    mywin.flip()\n",
    "    keys = event.getKeys()\n",
    "    if 'space' in keys:  # If space has been pushed\n",
    "        message.setText = ''\n",
    "        message.draw()\n",
    "        mywin.flip()  \n",
    "        \n",
    "        fixation.setAutoDraw(True)\n",
    "        \n",
    "        while count < 3:\n",
    "            #draw the stimuli and update the window\n",
    "            while Trialclock.getTime()<trialdur:\n",
    "                #draws square and fixation on screen.\n",
    "                pattern1.setAutoDraw(True)\n",
    "\n",
    "                for frameN in range(frame_on):\n",
    "                    mywin.flip()\n",
    "\n",
    "                #another way to change color with 1 pattern \n",
    "                #self.pattern1.color *= -1    \n",
    "                pattern1.setAutoDraw(False)\n",
    "                pattern2.setAutoDraw(True)\n",
    "\n",
    "                for frameN in range(frame_off):\n",
    "                    mywin.flip()\n",
    "                pattern2.setAutoDraw(False)\n",
    "\n",
    "            #clean black screen off\n",
    "            mywin.flip()\n",
    "            #wait certain time for next trial\n",
    "            core.wait(waitdur)\n",
    "            #reset clock for next trial\n",
    "            Trialclock.reset()    \n",
    "            #count number of trials\n",
    "            count+=1\n",
    "            \n",
    "            \n",
    "mywin.close()  #do not delete, otherwise, the window will not turn off"
   ]
  },
  {
   "cell_type": "code",
   "execution_count": null,
   "metadata": {},
   "outputs": [],
   "source": []
  },
  {
   "cell_type": "code",
   "execution_count": null,
   "metadata": {},
   "outputs": [],
   "source": []
  },
  {
   "cell_type": "code",
   "execution_count": null,
   "metadata": {},
   "outputs": [],
   "source": []
  }
 ],
 "metadata": {
  "kernelspec": {
   "display_name": "Python 3",
   "language": "python",
   "name": "python3"
  },
  "language_info": {
   "codemirror_mode": {
    "name": "ipython",
    "version": 3
   },
   "file_extension": ".py",
   "mimetype": "text/x-python",
   "name": "python",
   "nbconvert_exporter": "python",
   "pygments_lexer": "ipython3",
   "version": "3.7.6"
  }
 },
 "nbformat": 4,
 "nbformat_minor": 4
}
